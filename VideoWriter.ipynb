{
 "cells": [
  {
   "cell_type": "code",
   "execution_count": 1,
   "metadata": {},
   "outputs": [],
   "source": [
    "import os"
   ]
  },
  {
   "cell_type": "code",
   "execution_count": 3,
   "metadata": {
    "scrolled": true
   },
   "outputs": [
    {
     "name": "stdout",
     "output_type": "stream",
     "text": [
      "/home/gopal/Desktop/GAN/frame\n"
     ]
    }
   ],
   "source": [
    "cd frame/"
   ]
  },
  {
   "cell_type": "code",
   "execution_count": 5,
   "metadata": {},
   "outputs": [
    {
     "data": {
      "text/plain": [
       "['8.png',\n",
       " '7.png',\n",
       " '1.png',\n",
       " '4.png',\n",
       " '3.png',\n",
       " '5.png',\n",
       " '9.png',\n",
       " '6.png',\n",
       " '2.png']"
      ]
     },
     "execution_count": 5,
     "metadata": {},
     "output_type": "execute_result"
    }
   ],
   "source": [
    "os.listdir(\"/home/gopal/Desktop/GAN/frame\")"
   ]
  },
  {
   "cell_type": "code",
   "execution_count": 48,
   "metadata": {},
   "outputs": [],
   "source": [
    "# for ix in os.listdir(\"/home/gopal/Desktop/GAN/frame\"):\n",
    "#     img=cv2.imread(\"/home/gopal/Desktop/GAN/frame/\"+ix)\n",
    "#     print(img.shape)\n",
    "#     c=ix.strip(\".png\")\n",
    "#     img = cv2.resize(img, (500, 500))\n",
    "#     print(img)\n",
    "#     cv2.imwrite('/home/gopal/Desktop/GAN/image'+str(c)+'.png',img)\n",
    " "
   ]
  },
  {
   "cell_type": "code",
   "execution_count": 44,
   "metadata": {},
   "outputs": [],
   "source": [
    "import cv2\n",
    "import numpy as np\n",
    "img_array = []\n",
    "for filename in os.listdir(\"/home/gopal/Desktop/GAN/image\"):\n",
    "    img = cv2.imread(\"/home/gopal/Desktop/GAN/image/\"+filename)\n",
    "    height, width, layers = img.shape\n",
    "    size = (width,height)\n",
    "    img_array.append(img)"
   ]
  },
  {
   "cell_type": "code",
   "execution_count": 45,
   "metadata": {},
   "outputs": [],
   "source": [
    "out = cv2.VideoWriter('project.avi',cv2.VideoWriter_fourcc(*'DIVX'),1, size)"
   ]
  },
  {
   "cell_type": "code",
   "execution_count": 47,
   "metadata": {},
   "outputs": [],
   "source": [
    "for i in range(len(img_array)):\n",
    "    out.write(img_array[i])\n",
    "out.release()"
   ]
  },
  {
   "cell_type": "code",
   "execution_count": null,
   "metadata": {},
   "outputs": [],
   "source": []
  }
 ],
 "metadata": {
  "kernelspec": {
   "display_name": "Python 2",
   "language": "python",
   "name": "python2"
  },
  "language_info": {
   "codemirror_mode": {
    "name": "ipython",
    "version": 2
   },
   "file_extension": ".py",
   "mimetype": "text/x-python",
   "name": "python",
   "nbconvert_exporter": "python",
   "pygments_lexer": "ipython2",
   "version": "2.7.15+"
  }
 },
 "nbformat": 4,
 "nbformat_minor": 2
}
